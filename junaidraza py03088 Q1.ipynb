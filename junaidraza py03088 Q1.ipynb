{
 "cells": [
  {
   "cell_type": "code",
   "execution_count": 2,
   "metadata": {},
   "outputs": [
    {
     "name": "stdout",
     "output_type": "stream",
     "text": [
      "Twinkle, twinkle, little star, \n",
      "\t How I Wonder What you are! \n",
      "\t\t Up above the would so high, \n",
      "\t\t Like a diamond in the sky. \n",
      " Twinkle, twinkle, little star, \n",
      "\t How I wonder what you are \n"
     ]
    }
   ],
   "source": [
    "print(\"Twinkle, twinkle, little star, \\n\\t How I Wonder What you are! \\n\\t\\t Up above the would so high, \\n\\t\\t Like a diamond in the sky. \\n Twinkle, twinkle, little star, \\n\\t How I wonder what you are \")"
   ]
  },
  {
   "cell_type": "code",
   "execution_count": 3,
   "metadata": {},
   "outputs": [
    {
     "name": "stdout",
     "output_type": "stream",
     "text": [
      "PYTHON VERSION\n",
      "3.7.4 (default, Aug  9 2019, 18:34:13) [MSC v.1915 64 bit (AMD64)]\n",
      "VERSION info.\n",
      "sys.version_info(major=3, minor=7, micro=4, releaselevel='final', serial=0)\n"
     ]
    }
   ],
   "source": [
    "import sys\n",
    "print(\"PYTHON VERSION\")\n",
    "print(sys.version)\n",
    "print(\"VERSION info.\")\n",
    "print(sys.version_info)"
   ]
  },
  {
   "cell_type": "code",
   "execution_count": 4,
   "metadata": {},
   "outputs": [
    {
     "name": "stdout",
     "output_type": "stream",
     "text": [
      "PYTHON VERSION\n",
      "3.7.4 (default, Aug  9 2019, 18:34:13) [MSC v.1915 64 bit (AMD64)]\n",
      "VERSION INFO\n",
      "sys.version_info(major=3, minor=7, micro=4, releaselevel='final', serial=0)\n"
     ]
    }
   ],
   "source": [
    "import sys\n",
    "print(\"PYTHON VERSION\")\n",
    "print(sys.version)\n",
    "print(\"VERSION INFO\")\n",
    "print(sys.version_info)"
   ]
  },
  {
   "cell_type": "code",
   "execution_count": 5,
   "metadata": {},
   "outputs": [
    {
     "name": "stdout",
     "output_type": "stream",
     "text": [
      "PYTHON VERSION\n",
      "3.7.4 (default, Aug  9 2019, 18:34:13) [MSC v.1915 64 bit (AMD64)]\n",
      "VERSION INFO\n",
      "sys.version_info(major=3, minor=7, micro=4, releaselevel='final', serial=0)\n"
     ]
    }
   ],
   "source": [
    "import sys\n",
    "print(\"PYTHON VERSION\")\n",
    "print(sys.version)\n",
    "print(\"VERSION INFO\")\n",
    "print(sys.version_info)"
   ]
  },
  {
   "cell_type": "code",
   "execution_count": 6,
   "metadata": {},
   "outputs": [
    {
     "name": "stdout",
     "output_type": "stream",
     "text": [
      "PYTHON VERSION\n",
      "3.7.4 (default, Aug  9 2019, 18:34:13) [MSC v.1915 64 bit (AMD64)]\n",
      "VERSION INFOMATION\n",
      "sys.version_info(major=3, minor=7, micro=4, releaselevel='final', serial=0)\n"
     ]
    }
   ],
   "source": [
    "import sys\n",
    "print(\"PYTHON VERSION\")\n",
    "print(sys.version)\n",
    "print(\"VERSION INFOMATION\")\n",
    "print(sys.version_info)"
   ]
  },
  {
   "cell_type": "code",
   "execution_count": 7,
   "metadata": {},
   "outputs": [
    {
     "name": "stdout",
     "output_type": "stream",
     "text": [
      "CURRENT DATE\n"
     ]
    },
    {
     "ename": "AttributeError",
     "evalue": "module 'sys' has no attribute 'current_date'",
     "output_type": "error",
     "traceback": [
      "\u001b[1;31m---------------------------------------------------------------------------\u001b[0m",
      "\u001b[1;31mAttributeError\u001b[0m                            Traceback (most recent call last)",
      "\u001b[1;32m<ipython-input-7-9d90d75857f3>\u001b[0m in \u001b[0;36m<module>\u001b[1;34m\u001b[0m\n\u001b[0;32m      1\u001b[0m \u001b[1;32mimport\u001b[0m \u001b[0msys\u001b[0m\u001b[1;33m\u001b[0m\u001b[1;33m\u001b[0m\u001b[0m\n\u001b[0;32m      2\u001b[0m \u001b[0mprint\u001b[0m\u001b[1;33m(\u001b[0m\u001b[1;34m\"CURRENT DATE\"\u001b[0m\u001b[1;33m)\u001b[0m\u001b[1;33m\u001b[0m\u001b[1;33m\u001b[0m\u001b[0m\n\u001b[1;32m----> 3\u001b[1;33m \u001b[0mprint\u001b[0m\u001b[1;33m(\u001b[0m\u001b[0msys\u001b[0m\u001b[1;33m.\u001b[0m\u001b[0mcurrent_date\u001b[0m\u001b[1;33m)\u001b[0m\u001b[1;33m\u001b[0m\u001b[1;33m\u001b[0m\u001b[0m\n\u001b[0m\u001b[0;32m      4\u001b[0m \u001b[0mprint\u001b[0m\u001b[1;33m(\u001b[0m\u001b[1;33m)\u001b[0m\u001b[1;33m\u001b[0m\u001b[1;33m\u001b[0m\u001b[0m\n",
      "\u001b[1;31mAttributeError\u001b[0m: module 'sys' has no attribute 'current_date'"
     ]
    }
   ],
   "source": [
    "import sys\n",
    "print(\"CURRENT DATE\")\n",
    "print(sys.current_date)\n",
    "print()"
   ]
  },
  {
   "cell_type": "code",
   "execution_count": 8,
   "metadata": {},
   "outputs": [
    {
     "name": "stdout",
     "output_type": "stream",
     "text": [
      "Today's date: 2019-10-31\n"
     ]
    }
   ],
   "source": [
    "    from datetime import date\n",
    "    today = date.today()\n",
    "    print(\"Today's date:\", today)"
   ]
  },
  {
   "cell_type": "code",
   "execution_count": 9,
   "metadata": {},
   "outputs": [
    {
     "name": "stdout",
     "output_type": "stream",
     "text": [
      "now = 2019-10-31 19:36:19.489685\n",
      "date and time = 31/10/2019 19:36:19\n"
     ]
    }
   ],
   "source": [
    "from datetime import datetime\n",
    "# datetime object containing current date and time\n",
    "now = datetime.now()\n",
    " \n",
    "print(\"now =\", now)\n",
    "# dd/mm/YY H:M:S\n",
    "dt_string = now.strftime(\"%d/%m/%Y %H:%M:%S\")\n",
    "print(\"date and time =\", dt_string)\t\n"
   ]
  },
  {
   "cell_type": "code",
   "execution_count": 10,
   "metadata": {},
   "outputs": [
    {
     "name": "stdout",
     "output_type": "stream",
     "text": [
      "TODAY DATE AND TIME IS: 2019-10-31 19:38:22.107820\n"
     ]
    }
   ],
   "source": [
    "from datetime import date\n",
    "today = date.today()\n",
    "print(\"TODAY DATE AND TIME IS:\",today)\n"
   ]
  },
  {
   "cell_type": "code",
   "execution_count": 31,
   "metadata": {},
   "outputs": [
    {
     "name": "stdout",
     "output_type": "stream",
     "text": [
      "TODAY DATE IS: 2019-10-31\n",
      "CURRENT TIME IS: 2019-10-31 19:54:02.332688\n"
     ]
    }
   ],
   "source": [
    "from datetime import date\n",
    "from datetime import time\n",
    "today = date.today()\n",
    "print(\"TODAY DATE IS:\",today)\n",
    "now = datetime.now()\n",
    "print(\"CURRENT TIME IS:\",now)"
   ]
  },
  {
   "cell_type": "code",
   "execution_count": 62,
   "metadata": {},
   "outputs": [
    {
     "name": "stdout",
     "output_type": "stream",
     "text": [
      "TODAY DATE IS: 2019-11-04\n",
      "CURRENT TIME IS: 2019-11-04 20:10:47.684323\n"
     ]
    }
   ],
   "source": [
    "from datetime import date\n",
    "from datetime import datetime\n",
    "today = date.today()\n",
    "print(\"TODAY DATE IS:\",today)\n",
    "now = datetime.now()\n",
    "print(\"CURRENT TIME IS:\",now)"
   ]
  },
  {
   "cell_type": "code",
   "execution_count": null,
   "metadata": {},
   "outputs": [],
   "source": []
  },
  {
   "cell_type": "code",
   "execution_count": null,
   "metadata": {},
   "outputs": [],
   "source": []
  },
  {
   "cell_type": "code",
   "execution_count": null,
   "metadata": {},
   "outputs": [],
   "source": []
  },
  {
   "cell_type": "code",
   "execution_count": null,
   "metadata": {},
   "outputs": [],
   "source": []
  },
  {
   "cell_type": "code",
   "execution_count": null,
   "metadata": {},
   "outputs": [],
   "source": []
  },
  {
   "cell_type": "code",
   "execution_count": 41,
   "metadata": {},
   "outputs": [
    {
     "name": "stdout",
     "output_type": "stream",
     "text": [
      "ENTER VALUE OF RADIUS :32\n",
      "AREA OF CIRCLE 32.0 IS: 3217.408\n"
     ]
    }
   ],
   "source": [
    "pi=3.142\n",
    "radius=float(input(\"ENTER VALUE OF RADIUS :\",))\n",
    "print(\"AREA OF CIRCLE \"+str(radius)+\" IS: \" + str(pi * radius**2) )"
   ]
  },
  {
   "cell_type": "code",
   "execution_count": 56,
   "metadata": {},
   "outputs": [
    {
     "name": "stdout",
     "output_type": "stream",
     "text": [
      "ENTER YOUR FIRSTNAME:JUNAID\n",
      "ENTER YOUR LASTNAME:RAZA\n",
      "RAZA JUNAID\n"
     ]
    }
   ],
   "source": [
    "firstname = (input(\"ENTER YOUR FIRSTNAME:\"))\n",
    "lastname = (input(\"ENTER YOUR LASTNAME:\"))\n",
    "print(lastname +\" \" +firstname )"
   ]
  },
  {
   "cell_type": "code",
   "execution_count": 61,
   "metadata": {},
   "outputs": [
    {
     "name": "stdout",
     "output_type": "stream",
     "text": [
      "ENTER FIRST NUMBER: 6\n",
      "ENTER SECOND NUMBER: 6\n",
      "ADDITION VALUE IS:12\n"
     ]
    }
   ],
   "source": [
    "firstnumber=int(input(\"ENTER FIRST NUMBER: \"))\n",
    "secondnumber=int(input(\"ENTER SECOND NUMBER: \"))\n",
    "third=firstnumber+secondnumber;\n",
    "print(\"ADDITION VALUE IS:\"+str(third))"
   ]
  },
  {
   "cell_type": "code",
   "execution_count": null,
   "metadata": {},
   "outputs": [],
   "source": []
  }
 ],
 "metadata": {
  "kernelspec": {
   "display_name": "Python 3",
   "language": "python",
   "name": "python3"
  },
  "language_info": {
   "codemirror_mode": {
    "name": "ipython",
    "version": 3
   },
   "file_extension": ".py",
   "mimetype": "text/x-python",
   "name": "python",
   "nbconvert_exporter": "python",
   "pygments_lexer": "ipython3",
   "version": "3.7.4"
  }
 },
 "nbformat": 4,
 "nbformat_minor": 2
}
