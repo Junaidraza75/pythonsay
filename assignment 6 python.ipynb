{
 "cells": [
  {
   "cell_type": "code",
   "execution_count": 1,
   "metadata": {},
   "outputs": [
    {
     "ename": "SyntaxError",
     "evalue": "invalid syntax (<ipython-input-1-15f390418573>, line 1)",
     "output_type": "error",
     "traceback": [
      "\u001b[1;36m  File \u001b[1;32m\"<ipython-input-1-15f390418573>\"\u001b[1;36m, line \u001b[1;32m1\u001b[0m\n\u001b[1;33m    One of the popular approach to solve a programming problem is by creating objects.\u001b[0m\n\u001b[1;37m         ^\u001b[0m\n\u001b[1;31mSyntaxError\u001b[0m\u001b[1;31m:\u001b[0m invalid syntax\n"
     ]
    }
   ],
   "source": [
    "One of the popular approach to solve a programming problem is by creating objects.\n",
    "This is known as Object-Oriented Programming (OOP).\n",
    "\n",
    "Inheritance \tA process of using details from a new class without modifying existing class.\n",
    "Encapsulation \tHiding the private details of a class from other objects.\n",
    "Polymorphism \tA concept of using common operation in different ways for different data input."
   ]
  },
  {
   "cell_type": "code",
   "execution_count": 3,
   "metadata": {},
   "outputs": [
    {
     "ename": "IndentationError",
     "evalue": "unindent does not match any outer indentation level (<tokenize>, line 5)",
     "output_type": "error",
     "traceback": [
      "\u001b[1;36m  File \u001b[1;32m\"<tokenize>\"\u001b[1;36m, line \u001b[1;32m5\u001b[0m\n\u001b[1;33m    it easier to fix problems as bugs can be traced to specific system modules, thus limiting the scope of detailed error\u001b[0m\n\u001b[1;37m    ^\u001b[0m\n\u001b[1;31mIndentationError\u001b[0m\u001b[1;31m:\u001b[0m unindent does not match any outer indentation level\n"
     ]
    }
   ],
   "source": [
    "There are four benefit of object oriented programing\n",
    "\n",
    "Modularity for easier troubleshooting\n",
    "                        enables re-usability and minimizes duplication. In addition to re-usability, modularity also makes \n",
    "    it easier to fix problems as bugs can be traced to specific system modules, thus limiting the scope of detailed error\n",
    "    searching. Modular programming is an extensively used concept based on modularity.\n",
    "\n",
    "Reuse of code through inheritance\n",
    "                        We know that OOPS Provide Inheritance with the Help of the Inheritance The \n",
    "        Code that is Previously Codeis used in many Places where we wants  By using the Inheritance\n",
    "        We can Create our Programs by using pre-defined code.\n",
    "\n",
    "Flexibility through polymorphism\n",
    "                        The Concepts Introduces in the form of  Many behaviors of an object Like an Operator + \n",
    "    is used for Addition of Two Numbers and + is also used for Joining two names The Polymorphism in C++ Introduces\n",
    "    in the Form of Functions Overloading and  in the Form of Constructor Overloading.\n",
    "\n",
    "Effective problem solving\n",
    "                        Object-oriented programming is often the most natural and pragmatic approach, once you get the \n",
    "    hang of it.OOP languages allows you to break down your software into bite-sized problems that you then can solve — one\n",
    "    object at a time."
   ]
  },
  {
   "cell_type": "code",
   "execution_count": 4,
   "metadata": {},
   "outputs": [
    {
     "ename": "SyntaxError",
     "evalue": "invalid syntax (<ipython-input-4-03ecd5c854ad>, line 1)",
     "output_type": "error",
     "traceback": [
      "\u001b[1;36m  File \u001b[1;32m\"<ipython-input-4-03ecd5c854ad>\"\u001b[1;36m, line \u001b[1;32m1\u001b[0m\n\u001b[1;33m    Different Between Funcation & Method.\u001b[0m\n\u001b[1;37m                    ^\u001b[0m\n\u001b[1;31mSyntaxError\u001b[0m\u001b[1;31m:\u001b[0m invalid syntax\n"
     ]
    }
   ],
   "source": [
    "Different Between Funcation & Method.\n",
    "FUNCATION\n",
    "    A function is a piece of code that is called by name. It can be passed data to operate on (i.e. the parameters) and\n",
    "can optionally return data(the return value). All data that is passed to a function is explicitly passed.\n",
    "\n",
    "A function is independent of an object. \n",
    "\n",
    "Method\n",
    "    A method is a piece of code that is called by a name that is associated with an object. In most respects it is \n",
    "    identical to a function except for two key differences.\n",
    "        \n",
    "1 - A method is implicitly passed the object on which it was called.\n",
    "2 - A method is able to operate on data that is contained within the class (remembering that an object is an instance of\n",
    "    a class - the class is the definition, the object is an instance of that data).\n",
    "\n",
    "A method is on an object.\n"
   ]
  },
  {
   "cell_type": "code",
   "execution_count": 5,
   "metadata": {},
   "outputs": [
    {
     "ename": "IndentationError",
     "evalue": "unexpected indent (<ipython-input-5-1e3930932b5a>, line 2)",
     "output_type": "error",
     "traceback": [
      "\u001b[1;36m  File \u001b[1;32m\"<ipython-input-5-1e3930932b5a>\"\u001b[1;36m, line \u001b[1;32m2\u001b[0m\n\u001b[1;33m    A class is a blueprint for the object.\u001b[0m\n\u001b[1;37m    ^\u001b[0m\n\u001b[1;31mIndentationError\u001b[0m\u001b[1;31m:\u001b[0m unexpected indent\n"
     ]
    }
   ],
   "source": [
    "Class\n",
    "    A class is a blueprint for the object.\n",
    "\n",
    "    We can think of class as an sketch of a Car with labels. It contains all the details about the name, colors, size etc.\n",
    "    Based on these descriptions, we can study about the Car. Here, parrot is an object.\n",
    "\n",
    "    The example for class of Car can be :\n",
    "\n",
    "    class Car:\n",
    "        pass\n",
    "\n",
    "Object\n",
    "    An object (instance) is an instantiation of a class. When class is defined, only the description for the\n",
    "object is defined. Therefore, no memory or storage is allocated.\n",
    "\n",
    "The example for object of Car class can be:\n",
    "    obj = Car()\n",
    "\n",
    "Attribute\n",
    "    Attributes are data stored inside a class or instance and represent the state or quality of the class or instance.\n",
    "    In short, attributes store information about the instance.\n",
    "\n",
    "Behaviour\n",
    "An object is an entity that possesses both state (or properties or attributes) and behaviour. Put another way, an object\n",
    "encapsulates data and the functions that operate on that data. The data is usually hidden from other objects so that the\n",
    "only way to affect the data is through the object’s functions (or methods)."
   ]
  },
  {
   "cell_type": "code",
   "execution_count": 9,
   "metadata": {},
   "outputs": [
    {
     "name": "stdout",
     "output_type": "stream",
     "text": [
      "City is a Car\n",
      "Toyota is a Car\n",
      "Honda is City Multinational Company\n",
      "Toyota is Grande Japanes Company\n"
     ]
    }
   ],
   "source": [
    "class Vehicle:\n",
    "\n",
    "    # class attribute\n",
    "    species = \"Car\"\n",
    "\n",
    "    # instance attribute\n",
    "    def __init__(self, Companyname,name, Model, RYear,Color):\n",
    "        self.Companyname = Companyname\n",
    "        self.name = name\n",
    "        self.Model = Model\n",
    "        self.RYear = RYear\n",
    "        self.Color = Color\n",
    "\n",
    "# instantiate the Parrot class\n",
    "Cit = Vehicle(\"Honda\", \"City\", 2016, 2017, \"Silver\" )\n",
    "Toyo = Vehicle(\"Toyota\", \"Grande\", 2019, 2019, \"WHITE\")\n",
    "\n",
    "# access the class attributes\n",
    "print(\"City is a {}\".format(Cit.__class__.species))\n",
    "print(\"Toyota is a {}\".format(Toyo.__class__.species))\n",
    "\n",
    "# access the instance attributes\n",
    "print(\"{} is {} Multinational Company\".format( Cit.Companyname, Cit.name, Cit.Model, Cit.RYear,Cit.Color))\n",
    "print(\"{} is {} Japanes Company\".format( Toyo.Companyname, Toyo.name, Toyo.Model, Toyo.RYear,Toyo.Color))"
   ]
  },
  {
   "cell_type": "code",
   "execution_count": null,
   "metadata": {},
   "outputs": [],
   "source": []
  }
 ],
 "metadata": {
  "kernelspec": {
   "display_name": "Python 3",
   "language": "python",
   "name": "python3"
  },
  "language_info": {
   "codemirror_mode": {
    "name": "ipython",
    "version": 3
   },
   "file_extension": ".py",
   "mimetype": "text/x-python",
   "name": "python",
   "nbconvert_exporter": "python",
   "pygments_lexer": "ipython3",
   "version": "3.7.4"
  }
 },
 "nbformat": 4,
 "nbformat_minor": 2
}
