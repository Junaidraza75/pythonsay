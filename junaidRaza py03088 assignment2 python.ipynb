{
 "cells": [
  {
   "cell_type": "code",
   "execution_count": 29,
   "metadata": {},
   "outputs": [
    {
     "name": "stdout",
     "output_type": "stream",
     "text": [
      "ENTER Mark Of The First Subject: 95\n",
      "ENTER Mark Of The Second Subject: 85\n",
      "ENTER Mark Of The Third Subject: 66\n",
      "ENTER Mark Of The Forth Subject: 75\n",
      "ENTER Mark Of The Fifth Subject: 56\n",
      "YOUR OBTAIN MARK 377\n",
      "Your Grade is A\n"
     ]
    }
   ],
   "source": [
    "subject1=int(input(\"ENTER Mark Of The First Subject: \"))\n",
    "subject2=int(input(\"ENTER Mark Of The Second Subject: \"))\n",
    "subject3=int(input(\"ENTER Mark Of The Third Subject: \"))\n",
    "subject4=int(input(\"ENTER Mark Of The Forth Subject: \"))\n",
    "subject5=int(input(\"ENTER Mark Of The Fifth Subject: \")) \n",
    "obtainmark = subject1 + subject2 + subject3 + subject4 + subject5;\n",
    "print(\"YOUR OBTAIN MARK\",obtainmark)\n",
    "average = obtainmark/5\n",
    "    \n",
    "if(average>=85 and average<=100):\n",
    "    \tprint(\"Your Grade is A+\");\n",
    "elif(average>=75 and average<85):\n",
    "    \tprint(\"Your Grade is A\");\n",
    "elif(average>=65 and average<75):\n",
    "    \tprint(\"Your Grade is B+\");\n",
    "elif(average>=55 and average<65):\n",
    "    \tprint(\"Your Grade is B\");\n",
    "elif(average>=50 and average<=55):\n",
    "    \tprint(\"Your Grade is C+\");\n",
    "elif(average>=0 and average<=40):\n",
    "    \tprint(\"Your Grade is F\");\n",
    "else:\n",
    "    \tprint(\"Strange Grade..!!\");"
   ]
  },
  {
   "cell_type": "code",
   "execution_count": 30,
   "metadata": {},
   "outputs": [
    {
     "name": "stdout",
     "output_type": "stream",
     "text": [
      "Enter any number: 6\n",
      "6 is an even number.\n"
     ]
    }
   ],
   "source": [
    "num = input(\"Enter any number: \");\n",
    "number = float(num);\n",
    "if num:\n",
    "    check = number%2;\n",
    "    if check == 0:\n",
    "    \t    print(int(number), \"is an even number.\");\n",
    "    elif check == 1:\n",
    "    \tprint(int(number), \"is an odd number.\");\n",
    "    else:\n",
    "    \tprint(number, \"is strange.\");"
   ]
  },
  {
   "cell_type": "code",
   "execution_count": 20,
   "metadata": {},
   "outputs": [
    {
     "name": "stdout",
     "output_type": "stream",
     "text": [
      "The length of list is:  3\n"
     ]
    }
   ],
   "source": [
    "a = [] \n",
    "a.append(\"Ali\") \n",
    "a.append(\"Zaeem\") \n",
    "a.append(\"Faisal\") \n",
    "print(\"The length of list is: \", len(a)) "
   ]
  },
  {
   "cell_type": "code",
   "execution_count": 21,
   "metadata": {},
   "outputs": [
    {
     "name": "stdout",
     "output_type": "stream",
     "text": [
      "How many numbers: 5\n",
      "Enter number 100\n",
      "Enter number 60\n",
      "Enter number 50\n",
      "Enter number 75\n",
      "Enter number 55\n",
      "Sum of elements in given list is : 340\n"
     ]
    }
   ],
   "source": [
    "lst = []\n",
    "num = int(input('How many numbers: '))\n",
    "for n in range(num):\n",
    "    numbers = int(input('Enter number '))\n",
    "    lst.append(numbers)\n",
    "print(\"Sum of elements in given list is :\", sum(lst))\n"
   ]
  },
  {
   "cell_type": "code",
   "execution_count": 34,
   "metadata": {},
   "outputs": [
    {
     "name": "stdout",
     "output_type": "stream",
     "text": [
      "How many numbers: 5\n",
      "Enter number 11\n",
      "Maximum element in the list is : 11\n",
      "Enter number 25\n",
      "Maximum element in the list is : 25\n",
      "Enter number 10\n",
      "Maximum element in the list is : 25\n",
      "Enter number 99\n",
      "Maximum element in the list is : 99\n",
      "Enter number 150\n",
      "Maximum element in the list is : 150\n"
     ]
    }
   ],
   "source": [
    "lst = []\n",
    "num = int(input('How many numbers: '))\n",
    "for n in range(num):\n",
    "    numbers = int(input('Enter number '))\n",
    "    lst.append(numbers)\n",
    "    print(\"Maximum element in the list is :\", max(lst))"
   ]
  },
  {
   "cell_type": "code",
   "execution_count": 41,
   "metadata": {},
   "outputs": [
    {
     "name": "stdout",
     "output_type": "stream",
     "text": [
      "1\n",
      "1\n",
      "2\n",
      "3\n",
      "4\n"
     ]
    }
   ],
   "source": [
    "a = [1,1,2,3,4,8,13,21,34,55,48]\n",
    "def print_less_than_five():\n",
    "    for i in range(len(a)):\n",
    "        if a[i]<5:\n",
    "            print(a[i])\n",
    "print_less_than_five()"
   ]
  },
  {
   "cell_type": "code",
   "execution_count": null,
   "metadata": {},
   "outputs": [],
   "source": []
  }
 ],
 "metadata": {
  "kernelspec": {
   "display_name": "Python 3",
   "language": "python",
   "name": "python3"
  },
  "language_info": {
   "codemirror_mode": {
    "name": "ipython",
    "version": 3
   },
   "file_extension": ".py",
   "mimetype": "text/x-python",
   "name": "python",
   "nbconvert_exporter": "python",
   "pygments_lexer": "ipython3",
   "version": "3.7.4"
  }
 },
 "nbformat": 4,
 "nbformat_minor": 2
}
