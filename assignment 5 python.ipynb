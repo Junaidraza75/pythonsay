{
 "cells": [
  {
   "cell_type": "code",
   "execution_count": 11,
   "metadata": {},
   "outputs": [
    {
     "name": "stdout",
     "output_type": "stream",
     "text": [
      "Input a number to compute the factiorial : 5\n",
      "120\n"
     ]
    }
   ],
   "source": [
    "def factorial(number):\n",
    "    if number == 0:\n",
    "        return 1\n",
    "    else:\n",
    "        return number * factorial(number-1)\n",
    "number=int(input(\"Input a number to compute the factiorial : \"))\n",
    "print(factorial(number))"
   ]
  },
  {
   "cell_type": "code",
   "execution_count": 29,
   "metadata": {},
   "outputs": [
    {
     "name": "stdout",
     "output_type": "stream",
     "text": [
      "ORIGINAL STRING :  MUHAMMAD JUNAID Raza khatri\n",
      "No. Of Upper Case Characters :  15\n",
      "No. Of Lower Case Characters :  9\n"
     ]
    }
   ],
   "source": [
    "def string_test(st):\n",
    "    d={\"UPPER_CASE\":0, \"LOWER_CASE\":0}\n",
    "    for c in st:\n",
    "        if c.isupper():\n",
    "           d[\"UPPER_CASE\"]+=1\n",
    "        elif c.islower():\n",
    "           d[\"LOWER_CASE\"]+=1\n",
    "        else:\n",
    "           pass\n",
    "    print (\"ORIGINAL STRING : \", st)\n",
    "    print (\"No. Of Upper Case Characters : \", d[\"UPPER_CASE\"])\n",
    "    print (\"No. Of Lower Case Characters : \", d[\"LOWER_CASE\"])\n",
    "\n",
    "string_test(\"MUHAMMAD JUNAID Raza khatri\")"
   ]
  },
  {
   "cell_type": "code",
   "execution_count": 28,
   "metadata": {},
   "outputs": [
    {
     "name": "stdout",
     "output_type": "stream",
     "text": [
      "ORIGINAL STRING :  Muhammad Junaid Raza Khatri\n",
      "No. of Upper Case Characters : 4\n",
      "No. of Lower Case Characters : 20\n"
     ]
    }
   ],
   "source": [
    "\n",
    "def string_test(st):\n",
    "    d={\"UPPER\":0, \"LOWER\":0}\n",
    "    for c in st:\n",
    "        if c.isupper():\n",
    "           d[\"UPPER\"]+=1\n",
    "        elif c.islower():\n",
    "           d[\"LOWER\"]+=1\n",
    "        else:\n",
    "           pass\n",
    "    print (\"ORIGINAL STRING : \",st)\n",
    "    print (\"No. of Upper Case Characters :\", d[\"UPPER\"])\n",
    "    print (\"No. of Lower Case Characters :\", d[\"LOWER\"])\n",
    "string_test(\"Muhammad Junaid Raza Khatri\")"
   ]
  },
  {
   "cell_type": "code",
   "execution_count": 31,
   "metadata": {},
   "outputs": [
    {
     "name": "stdout",
     "output_type": "stream",
     "text": [
      "[2, 4, 6, 8, 10, 12, 14, 16, 18, 20]\n"
     ]
    }
   ],
   "source": [
    "def is_even(l):\n",
    "    evenNo=[]\n",
    "    for num in l:\n",
    "        if num%2 == 0:\n",
    "            evenNo.append(num)\n",
    "    return evenNo\n",
    "print(is_even([1,2,3,4,5,6,7,8,9,10,11,12,13,14,15,16,17,18,19,20]))"
   ]
  },
  {
   "cell_type": "code",
   "execution_count": 36,
   "metadata": {},
   "outputs": [
    {
     "name": "stdout",
     "output_type": "stream",
     "text": [
      "[2, 4, 6, 8]\n"
     ]
    }
   ],
   "source": [
    "def even(l):\n",
    "    evenNo=[]\n",
    "    for num in l:\n",
    "        if num%2 ==0:\n",
    "            evenNo.append(num)\n",
    "    return evenNo\n",
    "print(even([1,2,3,4,5,6,8]))"
   ]
  },
  {
   "cell_type": "code",
   "execution_count": 45,
   "metadata": {},
   "outputs": [
    {
     "name": "stdout",
     "output_type": "stream",
     "text": [
      "True\n"
     ]
    }
   ],
   "source": [
    "def isPalindrome(string):\n",
    "    left_pos = 0\n",
    "    right_pos = len(string) - 1\n",
    "    while right_pos >= left_pos:\n",
    "        if not string[left_pos] == string[right_pos]:\n",
    "            return False\n",
    "        left_pos += 1\n",
    "        right_pos -= 1\n",
    "    return True\n",
    "print(isPalindrome('aza'))"
   ]
  },
  {
   "cell_type": "code",
   "execution_count": 53,
   "metadata": {},
   "outputs": [
    {
     "name": "stdout",
     "output_type": "stream",
     "text": [
      "False\n"
     ]
    }
   ],
   "source": [
    "def prime(num):\n",
    "    if (num==1):\n",
    "        return False\n",
    "    elif(num==2):\n",
    "        return True\n",
    "    else:\n",
    "        for x in range(2,num):\n",
    "            if(num % x==0):\n",
    "                return False\n",
    "        return True\n",
    "print(prime(15))"
   ]
  },
  {
   "cell_type": "code",
   "execution_count": 52,
   "metadata": {},
   "outputs": [
    {
     "name": "stdout",
     "output_type": "stream",
     "text": [
      "False\n"
     ]
    }
   ],
   "source": []
  },
  {
   "cell_type": "code",
   "execution_count": null,
   "metadata": {},
   "outputs": [],
   "source": []
  }
 ],
 "metadata": {
  "kernelspec": {
   "display_name": "Python 3",
   "language": "python",
   "name": "python3"
  },
  "language_info": {
   "codemirror_mode": {
    "name": "ipython",
    "version": 3
   },
   "file_extension": ".py",
   "mimetype": "text/x-python",
   "name": "python",
   "nbconvert_exporter": "python",
   "pygments_lexer": "ipython3",
   "version": "3.7.4"
  }
 },
 "nbformat": 4,
 "nbformat_minor": 2
}
