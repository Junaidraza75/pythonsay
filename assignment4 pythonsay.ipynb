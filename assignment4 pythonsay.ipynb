{
 "cells": [
  {
   "cell_type": "code",
   "execution_count": 5,
   "metadata": {},
   "outputs": [
    {
     "name": "stdout",
     "output_type": "stream",
     "text": [
      "Heaven City Main Maymar Avenue Road Karachi\n"
     ]
    }
   ],
   "source": [
    "customer={\"firstname\":\"Junaid\",\n",
    "          \"lastname\":\"Raza\",\n",
    "          \"City\":\"Karachi\",\n",
    "          \"address\":\"Heaven City Main Maymar Avenue Road Karachi\"}\n",
    "print(customer[\"address\"])"
   ]
  },
  {
   "cell_type": "code",
   "execution_count": 6,
   "metadata": {},
   "outputs": [
    {
     "name": "stdout",
     "output_type": "stream",
     "text": [
      "{'firstname': 'Junaid', 'lastname': 'Raza', 'City': 'Karachi', 'address': 'Heaven City Main Maymar Avenue Road Karachi', 'Qualification': 'Bachlor Student'}\n"
     ]
    }
   ],
   "source": [
    "customer={\"firstname\":\"Junaid\",\n",
    "          \"lastname\":\"Raza\",\n",
    "          \"City\":\"Karachi\",\n",
    "          \"address\":\"Heaven City Main Maymar Avenue Road Karachi\"}\n",
    "customer[\"Qualification\"]=\"Bachlor Student\"\n",
    "\n",
    "print(customer)\n"
   ]
  },
  {
   "cell_type": "code",
   "execution_count": 7,
   "metadata": {},
   "outputs": [
    {
     "name": "stdout",
     "output_type": "stream",
     "text": [
      "{'firstname': 'Junaid', 'lastname': 'Raza', 'City': 'Karachi', 'address': 'Heaven City Main Maymar Avenue Road Karachi', 'Qualification': 'Bachlor Student'}\n",
      "{'firstname': 'Junaid', 'lastname': 'Raza', 'City': 'Karachi', 'address': 'Heaven City Main Maymar Avenue Road Karachi'}\n"
     ]
    }
   ],
   "source": [
    "customer={\"firstname\":\"Junaid\",\n",
    "          \"lastname\":\"Raza\",\n",
    "          \"City\":\"Karachi\",\n",
    "          \"address\":\"Heaven City Main Maymar Avenue Road Karachi\"}\n",
    "customer[\"Qualification\"]=\"Bachlor Student\"\n",
    "\n",
    "print(customer)\n",
    "\n",
    "del customer[\"Qualification\"]\n",
    "print (customer)\n"
   ]
  },
  {
   "cell_type": "code",
   "execution_count": 9,
   "metadata": {},
   "outputs": [
    {
     "name": "stdout",
     "output_type": "stream",
     "text": [
      "Karachi, Pakistan, 21000000\n",
      "Madina, Saudi Arabia, 1000000\n",
      "Hongkong, Japan, 6500000\n"
     ]
    }
   ],
   "source": [
    "def city_country(city, country,population):\n",
    "    return(city.title() + \", \" + country.title()+\", \"+ population.title())\n",
    "\n",
    "city = city_country('KARACHI', 'Pakistan','21000000')\n",
    "print(city)\n",
    "\n",
    "city = city_country('MADINA', 'Saudi Arabia','1000000')\n",
    "print(city)\n",
    "city = city_country('Hongkong', 'Japan','6500000')\n",
    "print(city)\n"
   ]
  },
  {
   "cell_type": "code",
   "execution_count": null,
   "metadata": {},
   "outputs": [],
   "source": [
    "inputs = \"How Old Are You?\"\n",
    "inputs += \"\\n Enter 'QUIT' When You Are Finished.\"\n",
    "while True:\n",
    "    age = input(inputs)\n",
    "    if age == 'quit':\n",
    "        break\n",
    "    age = int (age)\n",
    "    if age > 0 and age <= 3:\n",
    "        print (\"your Ticket Is Free!\")\n",
    "    elif (age > 3 and age <= 12):\n",
    "        print(\"Plese pay $10 for your Ticket\")\n",
    "    else:\n",
    "         print(\"Plese pay $15 for your Ticket\")\n",
    "            \n",
    "# Sir I Try many Option to Solve the Str object Is not callable problem but no successful then i run my code in \n",
    "# complier and this code is run please help me in str problem.\n",
    "\n",
    "# my output is come i save my code and ouput in Ms-Word file.."
   ]
  },
  {
   "cell_type": "code",
   "execution_count": null,
   "metadata": {},
   "outputs": [],
   "source": []
  },
  {
   "cell_type": "code",
   "execution_count": null,
   "metadata": {
    "scrolled": true
   },
   "outputs": [],
   "source": [
    "def favorite_book(title):\n",
    "    print(\"One of my favorite book is \" + title)\n",
    "\n",
    "favorite_book(\"Alice in Wonderland\")\n",
    "\n",
    "#Sir Please help In this code code is run in another file but not run in this file please help this str \n",
    "#problem in next video\n",
    "\n",
    "#Str object is not callable please ye samaj nhi araha hy net per bhi search ker leya hy.\n",
    "\n",
    "# my output is come i save my code and ouput in Ms-Word file.."
   ]
  },
  {
   "cell_type": "code",
   "execution_count": null,
   "metadata": {},
   "outputs": [],
   "source": [
    "import random\n",
    "guessesTaken = 0\n",
    "print('Hello! What is your name?')\n",
    "myName = input()\n",
    "number = random.randint(1, 30)\n",
    "print('Well, ' + myName + ', I am thinking of a number between 1 and 30.')\n",
    "while guessesTaken < 6:\n",
    "    print('Take a guess.') \n",
    "    guess = input()\n",
    "    guess = int(guess)\n",
    "    guessesTaken = guessesTaken + 1\n",
    "\n",
    "    if guess < number:\n",
    "        print('Your guess is too low.')\n",
    "        if guess > number:\n",
    "            print('Your guess is too high.')\n",
    "            if guess == number:\n",
    "                break\n",
    "                if guess == number:\n",
    "                    guessesTaken = str(guessesTaken)\n",
    "                    print('Good job, ' + myName + '! You guessed my number in ' + guessesTaken + ' guesses!')\n",
    "                    if guess != number:\n",
    "                        number = str(number)\n",
    "                        print('Nope. The number I was thinking of was ' + number)\n",
    "\n",
    "#Sir Please help In this code code is run in another file but not run in this file please help this str \n",
    "#problem in next video\n",
    "\n",
    "# my output is come i save my code and ouput in Ms-Word file.."
   ]
  },
  {
   "cell_type": "code",
   "execution_count": null,
   "metadata": {},
   "outputs": [],
   "source": []
  },
  {
   "cell_type": "code",
   "execution_count": null,
   "metadata": {},
   "outputs": [],
   "source": []
  }
 ],
 "metadata": {
  "kernelspec": {
   "display_name": "Python 3",
   "language": "python",
   "name": "python3"
  },
  "language_info": {
   "codemirror_mode": {
    "name": "ipython",
    "version": 3
   },
   "file_extension": ".py",
   "mimetype": "text/x-python",
   "name": "python",
   "nbconvert_exporter": "python",
   "pygments_lexer": "ipython3",
   "version": "3.7.4"
  }
 },
 "nbformat": 4,
 "nbformat_minor": 2
}
