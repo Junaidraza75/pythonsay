{
 "cells": [
  {
   "cell_type": "code",
   "execution_count": 5,
   "metadata": {},
   "outputs": [
    {
     "name": "stdout",
     "output_type": "stream",
     "text": [
      "Heaven City Main Maymar Avenue Road Karachi\n"
     ]
    }
   ],
   "source": [
    "customer={\"firstname\":\"Junaid\",\n",
    "          \"lastname\":\"Raza\",\n",
    "          \"City\":\"Karachi\",\n",
    "          \"address\":\"Heaven City Main Maymar Avenue Road Karachi\"}\n",
    "print(customer[\"address\"])"
   ]
  },
  {
   "cell_type": "code",
   "execution_count": 6,
   "metadata": {},
   "outputs": [
    {
     "name": "stdout",
     "output_type": "stream",
     "text": [
      "{'firstname': 'Junaid', 'lastname': 'Raza', 'City': 'Karachi', 'address': 'Heaven City Main Maymar Avenue Road Karachi', 'Qualification': 'Bachlor Student'}\n"
     ]
    }
   ],
   "source": [
    "customer={\"firstname\":\"Junaid\",\n",
    "          \"lastname\":\"Raza\",\n",
    "          \"City\":\"Karachi\",\n",
    "          \"address\":\"Heaven City Main Maymar Avenue Road Karachi\"}\n",
    "customer[\"Qualification\"]=\"Bachlor Student\"\n",
    "\n",
    "print(customer)\n"
   ]
  },
  {
   "cell_type": "code",
   "execution_count": 7,
   "metadata": {},
   "outputs": [
    {
     "name": "stdout",
     "output_type": "stream",
     "text": [
      "{'firstname': 'Junaid', 'lastname': 'Raza', 'City': 'Karachi', 'address': 'Heaven City Main Maymar Avenue Road Karachi', 'Qualification': 'Bachlor Student'}\n",
      "{'firstname': 'Junaid', 'lastname': 'Raza', 'City': 'Karachi', 'address': 'Heaven City Main Maymar Avenue Road Karachi'}\n"
     ]
    }
   ],
   "source": [
    "customer={\"firstname\":\"Junaid\",\n",
    "          \"lastname\":\"Raza\",\n",
    "          \"City\":\"Karachi\",\n",
    "          \"address\":\"Heaven City Main Maymar Avenue Road Karachi\"}\n",
    "customer[\"Qualification\"]=\"Bachlor Student\"\n",
    "\n",
    "print(customer)\n",
    "\n",
    "del customer[\"Qualification\"]\n",
    "print (customer)\n"
   ]
  },
  {
   "cell_type": "code",
   "execution_count": 9,
   "metadata": {},
   "outputs": [
    {
     "name": "stdout",
     "output_type": "stream",
     "text": [
      "Karachi, Pakistan, 21000000\n",
      "Madina, Saudi Arabia, 1000000\n",
      "Hongkong, Japan, 6500000\n"
     ]
    }
   ],
   "source": [
    "def city_country(city, country,population):\n",
    "    return(city.title() + \", \" + country.title()+\", \"+ population.title())\n",
    "\n",
    "city = city_country('KARACHI', 'Pakistan','21000000')\n",
    "print(city)\n",
    "\n",
    "city = city_country('MADINA', 'Saudi Arabia','1000000')\n",
    "print(city)\n",
    "city = city_country('Hongkong', 'Japan','6500000')\n",
    "print(city)\n"
   ]
  },
  {
   "cell_type": "code",
   "execution_count": 3,
   "metadata": {},
   "outputs": [
    {
     "name": "stdout",
     "output_type": "stream",
     "text": [
      "How Old Are You?\n",
      " Enter 'QUIT' When You Are Finished.3\n",
      "your Ticket Is Free!\n",
      "How Old Are You?\n",
      " Enter 'QUIT' When You Are Finished.13\n",
      "Plese pay $15 for your Ticket\n",
      "How Old Are You?\n",
      " Enter 'QUIT' When You Are Finished.15\n",
      "Plese pay $15 for your Ticket\n",
      "How Old Are You?\n",
      " Enter 'QUIT' When You Are Finished.9\n",
      "Plese pay $10 for your Ticket\n",
      "How Old Are You?\n",
      " Enter 'QUIT' When You Are Finished.quit\n"
     ]
    }
   ],
   "source": [
    "inputs = \"How Old Are You?\"\n",
    "inputs += \"\\n Enter 'QUIT' When You Are Finished.\"\n",
    "while True:\n",
    "    age = input(inputs)\n",
    "    if age == 'quit':\n",
    "        break\n",
    "    age = int (age)\n",
    "    if age > 0 and age <= 3:\n",
    "        print (str(\"your Ticket Is Free!\"))\n",
    "    elif (age > 3 and age <= 12):\n",
    "        print(str(\"Plese pay $10 for your Ticket\"))\n",
    "    else:\n",
    "         print(str(\"Plese pay $15 for your Ticket\"))\n"
   ]
  },
  {
   "cell_type": "code",
   "execution_count": null,
   "metadata": {},
   "outputs": [],
   "source": []
  },
  {
   "cell_type": "code",
   "execution_count": 2,
   "metadata": {
    "scrolled": true
   },
   "outputs": [
    {
     "name": "stdout",
     "output_type": "stream",
     "text": [
      "One of my favorite book is Alice in Wonderland\n"
     ]
    }
   ],
   "source": [
    "def favorite_book(title):\n",
    "    print(\"One of my favorite book is \" + str(title))\n",
    "\n",
    "favorite_book(str(\"Alice in Wonderland\"))\n",
    "\n"
   ]
  },
  {
   "cell_type": "code",
   "execution_count": 4,
   "metadata": {},
   "outputs": [
    {
     "name": "stdout",
     "output_type": "stream",
     "text": [
      "Hello! What is your name?\n",
      "Junaid\n",
      "Well, Junaid, I am thinking of a number between 1 and 30.\n",
      "Take a guess.\n",
      "30\n",
      "Take a guess.\n",
      "10\n",
      "Take a guess.\n",
      "15\n",
      "Take a guess.\n",
      "9\n",
      "Take a guess.\n",
      "1\n",
      "Your guess is too low.\n",
      "Take a guess.\n",
      "5\n"
     ]
    }
   ],
   "source": [
    "import random\n",
    "guessesTaken = 0\n",
    "print(str('Hello! What is your name?'))\n",
    "myName = input()\n",
    "number = random.randint(1, 30)\n",
    "print('Well, ' + myName + ', I am thinking of a number between 1 and 30.')\n",
    "while guessesTaken < 6:\n",
    "    print('Take a guess.') \n",
    "    guess = input()\n",
    "    guess = int(guess)\n",
    "    guessesTaken = guessesTaken + 1\n",
    "\n",
    "    if guess < number:\n",
    "        print('Your guess is too low.')\n",
    "        if guess > number:\n",
    "            print('Your guess is too high.')\n",
    "            if guess == number:\n",
    "                break\n",
    "                if guess == number:\n",
    "                    guessesTaken = str(guessesTaken)\n",
    "                    print('Good job, ' + myName + '! You guessed my number in ' + guessesTaken + ' guesses!')\n",
    "                    if guess != number:\n",
    "                        number = str(number)\n",
    "                        print('Nope. The number I was thinking of was ' + number)\n",
    "\n"
   ]
  },
  {
   "cell_type": "code",
   "execution_count": null,
   "metadata": {},
   "outputs": [],
   "source": []
  },
  {
   "cell_type": "code",
   "execution_count": null,
   "metadata": {},
   "outputs": [],
   "source": []
  }
 ],
 "metadata": {
  "kernelspec": {
   "display_name": "Python 3",
   "language": "python",
   "name": "python3"
  }
 },
 "nbformat": 4,
 "nbformat_minor": 2
}
